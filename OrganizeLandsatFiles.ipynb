{
 "cells": [
  {
   "cell_type": "code",
   "execution_count": 72,
   "metadata": {},
   "outputs": [],
   "source": [
    "import pandas as pd\n",
    "import numpy as np\n",
    "import matplotlib.pyplot as plt"
   ]
  },
  {
   "cell_type": "markdown",
   "metadata": {},
   "source": [
    "Check current directory"
   ]
  },
  {
   "cell_type": "code",
   "execution_count": 73,
   "metadata": {},
   "outputs": [
    {
     "name": "stdout",
     "output_type": "stream",
     "text": [
      "C:\\Users\\jeidmann\\Documents\\GIS_Files\\Complete2016Landsat8\n",
      " Volume in drive C has no label.\n",
      " Volume Serial Number is 7AF1-2559\n",
      "\n",
      " Directory of C:\\Users\\jeidmann\\Documents\\GIS_Files\\Complete2016Landsat8\n",
      "\n",
      "12/13/2018  11:07 PM    <DIR>          .\n",
      "12/13/2018  11:07 PM    <DIR>          ..\n",
      "12/13/2018  11:55 PM    <DIR>          01_Jan2016\n",
      "12/13/2018  11:08 PM    <DIR>          02b_Feb2016\n",
      "12/14/2018  12:02 AM    <DIR>          02_Feb2016\n",
      "12/13/2018  11:09 PM    <DIR>          03b_Mar2016\n",
      "12/13/2018  11:09 PM    <DIR>          03_Mar2016\n",
      "12/13/2018  11:11 PM    <DIR>          04b_Apr2016\n",
      "12/13/2018  11:09 PM    <DIR>          04_Apr2016\n",
      "12/13/2018  11:11 PM    <DIR>          05b_May2016\n",
      "12/13/2018  11:11 PM    <DIR>          05_May2016\n",
      "12/13/2018  11:12 PM    <DIR>          06b_Jun2016\n",
      "12/13/2018  11:11 PM    <DIR>          06_Jun2016\n",
      "12/13/2018  11:12 PM    <DIR>          07b_Jul2016\n",
      "12/13/2018  11:12 PM    <DIR>          07_Jul2016\n",
      "12/13/2018  11:13 PM    <DIR>          08b_Aug2016\n",
      "12/13/2018  11:12 PM    <DIR>          08_Aug2016\n",
      "12/13/2018  11:13 PM    <DIR>          09b_Sep2016\n",
      "12/13/2018  11:13 PM    <DIR>          09_Sep2016\n",
      "12/13/2018  11:14 PM    <DIR>          10b_Oct2016\n",
      "12/13/2018  11:14 PM    <DIR>          10_Oct2016\n",
      "12/13/2018  11:14 PM    <DIR>          11b_Nov2016\n",
      "12/13/2018  11:14 PM    <DIR>          11_Nov2016\n",
      "12/13/2018  11:15 PM    <DIR>          12_Dec2016\n",
      "               0 File(s)              0 bytes\n",
      "              24 Dir(s)  282,231,574,528 bytes free\n"
     ]
    }
   ],
   "source": [
    "# current directory\n",
    "import os\n",
    "! cd\n",
    "# files in current directory\n",
    "! dir"
   ]
  },
  {
   "cell_type": "code",
   "execution_count": 92,
   "metadata": {},
   "outputs": [
    {
     "name": "stdout",
     "output_type": "stream",
     "text": [
      "C:\\Users\\jeidmann\\Documents\\GIS_Files\n"
     ]
    }
   ],
   "source": [
    "cd .."
   ]
  },
  {
   "cell_type": "code",
   "execution_count": 93,
   "metadata": {},
   "outputs": [
    {
     "name": "stdout",
     "output_type": "stream",
     "text": [
      "C:\\Users\\jeidmann\\Documents\\GIS_Files\\Complete2018Landsat8\n"
     ]
    }
   ],
   "source": [
    "cd .\\Complete2018Landsat8"
   ]
  },
  {
   "cell_type": "code",
   "execution_count": 104,
   "metadata": {},
   "outputs": [
    {
     "name": "stdout",
     "output_type": "stream",
     "text": [
      " Volume in drive C has no label.\n",
      " Volume Serial Number is 7AF1-2559\n",
      "\n",
      " Directory of C:\\Users\\jeidmann\\Documents\\GIS_Files\\Complete2018Landsat8\n",
      "\n",
      "12/14/2018  11:21 AM    <DIR>          .\n",
      "12/14/2018  11:21 AM    <DIR>          ..\n",
      "12/14/2018  11:18 AM    <DIR>          01_Jan2018\n",
      "12/14/2018  11:18 AM    <DIR>          02b_Feb2018\n",
      "12/14/2018  11:18 AM    <DIR>          02_Feb2018\n",
      "12/14/2018  11:18 AM    <DIR>          03b_Mar2018\n",
      "12/14/2018  11:18 AM    <DIR>          03_Mar2018\n",
      "12/14/2018  11:19 AM    <DIR>          04b_Apr2018\n",
      "12/14/2018  11:19 AM    <DIR>          04_Apr2018\n",
      "12/14/2018  11:19 AM    <DIR>          05b_May2018\n",
      "12/14/2018  11:19 AM    <DIR>          05_May2018\n",
      "12/14/2018  11:19 AM    <DIR>          06b_Jun2018\n",
      "12/14/2018  11:19 AM    <DIR>          06_Jun2018\n",
      "12/14/2018  11:18 AM    <DIR>          07_Jul2018\n",
      "12/14/2018  11:20 AM    <DIR>          08b_Aug2018\n",
      "12/14/2018  11:20 AM    <DIR>          08_Aug2018\n",
      "12/14/2018  11:20 AM    <DIR>          09b_Sep2018\n",
      "12/14/2018  11:20 AM    <DIR>          09_Sep2018\n",
      "12/14/2018  11:20 AM    <DIR>          10b_Oct2018\n",
      "12/14/2018  11:20 AM    <DIR>          10_Oct2018\n",
      "12/14/2018  11:21 AM    <DIR>          11b_Nov2018\n",
      "12/14/2018  11:21 AM    <DIR>          11_Nov2018\n",
      "12/14/2018  11:18 AM    <DIR>          12_Dec2018\n",
      "               0 File(s)              0 bytes\n",
      "              23 Dir(s)  379,297,124,352 bytes free\n"
     ]
    }
   ],
   "source": [
    "!dir"
   ]
  },
  {
   "cell_type": "code",
   "execution_count": 95,
   "metadata": {},
   "outputs": [],
   "source": [
    "folders = ['01_Jan2018','02_Feb2018','03_Mar2018','04_Apr2018','05_May2018','06_Jun2018','07_Jul2018','08_Aug2018','09_Sep2018','10_Oct2018','11_Nov2018','12_Dec2018']\n",
    "for folder in folders:\n",
    "    os.mkdir(os.path.join(folder))"
   ]
  },
  {
   "cell_type": "code",
   "execution_count": 96,
   "metadata": {},
   "outputs": [
    {
     "name": "stdout",
     "output_type": "stream",
     "text": [
      "01_Jan2018\n",
      "02_Feb2018\n",
      "03_Mar2018\n",
      "04_Apr2018\n",
      "05_May2018\n",
      "06_Jun2018\n",
      "07_Jul2018\n",
      "08_Aug2018\n",
      "09_Sep2018\n",
      "10_Oct2018\n",
      "11_Nov2018\n",
      "12_Dec2018\n",
      "LC080040472018120201T1-SC20181213011815.tar\n",
      "LC080040482018120201T1-SC20181213011838.tar\n",
      "LC080050472018120901RT-SC20181213011840.tar\n",
      "LC080050482018120901RT-SC20181213011825.tar\n"
     ]
    }
   ],
   "source": [
    "import shutil\n",
    "dest1=r'C:\\Users\\jeidmann\\Documents\\GIS_Files\\Complete2018Landsat8\\01_Jan2018'\n",
    "dest2=r'C:\\Users\\jeidmann\\Documents\\GIS_Files\\Complete2018Landsat8\\02_Feb2018'\n",
    "dest3=r'C:\\Users\\jeidmann\\Documents\\GIS_Files\\Complete2018Landsat8\\03_Mar2018'\n",
    "dest4=r'C:\\Users\\jeidmann\\Documents\\GIS_Files\\Complete2018Landsat8\\04_Apr2018'\n",
    "dest5=r'C:\\Users\\jeidmann\\Documents\\GIS_Files\\Complete2018Landsat8\\05_May2018'\n",
    "dest6=r'C:\\Users\\jeidmann\\Documents\\GIS_Files\\Complete2018Landsat8\\06_Jun2018'\n",
    "dest7=r'C:\\Users\\jeidmann\\Documents\\GIS_Files\\Complete2018Landsat8\\07_Jul2018'\n",
    "dest8=r'C:\\Users\\jeidmann\\Documents\\GIS_Files\\Complete2018Landsat8\\08_Aug2018'\n",
    "dest9=r'C:\\Users\\jeidmann\\Documents\\GIS_Files\\Complete2018Landsat8\\09_Sep2018'\n",
    "dest10=r'C:\\Users\\jeidmann\\Documents\\GIS_Files\\Complete2018Landsat8\\10_Oct2018'\n",
    "dest11=r'C:\\Users\\jeidmann\\Documents\\GIS_Files\\Complete2018Landsat8\\11_Nov2018'\n",
    "dest12=r'C:\\Users\\jeidmann\\Documents\\GIS_Files\\Complete2018Landsat8\\12_Dec2018'\n",
    "#dest1=r'C:\\Users\\jeidmann\\Documents\\GIS_Files\\Complete2018Landsat8\\02_Feb2018'\n",
    "cwd = os.getcwd()\n",
    "list = [f for f in os.listdir(cwd)]\n",
    "for name in list:\n",
    "    if \"201801\" in name:\n",
    "        shutil.move(name,dest1)\n",
    "    elif \"201802\" in name:\n",
    "        shutil.move(name,dest2)\n",
    "    elif \"201803\" in name:\n",
    "        shutil.move(name,dest3)\n",
    "    elif \"201804\" in name:\n",
    "        shutil.move(name,dest4)\n",
    "    elif \"201805\" in name:\n",
    "        shutil.move(name,dest5)\n",
    "    elif \"201806\" in name:\n",
    "        shutil.move(name,dest6)\n",
    "    elif \"201807\" in name:\n",
    "        shutil.move(name,dest7)\n",
    "    elif \"201808\" in name:\n",
    "        shutil.move(name,dest8)\n",
    "    elif \"201809\" in name:\n",
    "        shutil.move(name,dest9)\n",
    "    elif \"201810\" in name:\n",
    "        shutil.move(name,dest10)\n",
    "    elif \"201811\" in name:\n",
    "        shutil.move(name,dest11)\n",
    "    else:\n",
    "        print(name)\n",
    "#list = [f for f in os.listdir(path) if f.endswith('.tif')]\n",
    "\n",
    "#shutil.move(destination, source)\n"
   ]
  },
  {
   "cell_type": "code",
   "execution_count": null,
   "metadata": {},
   "outputs": [],
   "source": []
  }
 ],
 "metadata": {
  "kernelspec": {
   "display_name": "Python 3",
   "language": "python",
   "name": "python3"
  },
  "language_info": {
   "codemirror_mode": {
    "name": "ipython",
    "version": 3
   },
   "file_extension": ".py",
   "mimetype": "text/x-python",
   "name": "python",
   "nbconvert_exporter": "python",
   "pygments_lexer": "ipython3",
   "version": "3.6.5"
  }
 },
 "nbformat": 4,
 "nbformat_minor": 2
}
